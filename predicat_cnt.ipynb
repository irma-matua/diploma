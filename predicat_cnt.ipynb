{
 "cells": [
  {
   "cell_type": "code",
   "execution_count": 1,
   "metadata": {},
   "outputs": [],
   "source": [
    "import pandas as pd\n",
    "import numpy as np\n",
    "import re"
   ]
  },
  {
   "cell_type": "code",
   "execution_count": 2,
   "metadata": {},
   "outputs": [],
   "source": [
    "files = [\n",
    "    'Часть вторая', \n",
    "    'aviator_analiz_ch.1',\n",
    "]"
   ]
  },
  {
   "cell_type": "code",
   "execution_count": 3,
   "metadata": {},
   "outputs": [
    {
     "ename": "FileNotFoundError",
     "evalue": "[Errno 2] No such file or directory: 'Часть вторая'",
     "output_type": "error",
     "traceback": [
      "\u001b[0;31m---------------------------------------------------------------------------\u001b[0m",
      "\u001b[0;31mFileNotFoundError\u001b[0m                         Traceback (most recent call last)",
      "\u001b[0;32m<ipython-input-3-551d2a956964>\u001b[0m in \u001b[0;36m<module>\u001b[0;34m\u001b[0m\n\u001b[1;32m      4\u001b[0m     \u001b[0mtimes\u001b[0m \u001b[0;34m=\u001b[0m \u001b[0mset\u001b[0m\u001b[0;34m(\u001b[0m\u001b[0;34m)\u001b[0m   \u001b[0;31m#\u001b[0m\u001b[0;34m\u001b[0m\u001b[0;34m\u001b[0m\u001b[0m\n\u001b[1;32m      5\u001b[0m \u001b[0;34m\u001b[0m\u001b[0m\n\u001b[0;32m----> 6\u001b[0;31m     \u001b[0;32mwith\u001b[0m \u001b[0mopen\u001b[0m\u001b[0;34m(\u001b[0m\u001b[0mfile\u001b[0m\u001b[0;34m,\u001b[0m \u001b[0;34m'r'\u001b[0m\u001b[0;34m)\u001b[0m \u001b[0;32mas\u001b[0m \u001b[0mf\u001b[0m\u001b[0;34m:\u001b[0m\u001b[0;34m\u001b[0m\u001b[0;34m\u001b[0m\u001b[0m\n\u001b[0m\u001b[1;32m      7\u001b[0m         \u001b[0;32mfor\u001b[0m \u001b[0mline\u001b[0m \u001b[0;32min\u001b[0m \u001b[0mf\u001b[0m\u001b[0;34m:\u001b[0m\u001b[0;34m\u001b[0m\u001b[0;34m\u001b[0m\u001b[0m\n\u001b[1;32m      8\u001b[0m \u001b[0;34m\u001b[0m\u001b[0m\n",
      "\u001b[0;31mFileNotFoundError\u001b[0m: [Errno 2] No such file or directory: 'Часть вторая'"
     ]
    }
   ],
   "source": [
    "for file in files:\n",
    "\n",
    "    transes = set() #\n",
    "    times = set()   # \n",
    "\n",
    "    with open(file, 'r') as f:\n",
    "        for line in f:\n",
    "\n",
    "            matches = re.findall('{?([A-Z, 0-9, a-z]+;[^}]+)}', line)\n",
    "\n",
    "            for one in matches:\n",
    "\n",
    "                    trans, time = one.split(';')\n",
    "\n",
    "                    trans.replace('{', '')\n",
    "                    time.replace('}', '')\n",
    "\n",
    "                    transes.add(trans)\n",
    "                    times.add(time)\n",
    "\n",
    "\n",
    "\n",
    "    df = pd.DataFrame(\n",
    "        np.zeros(\n",
    "            (len(transes), len(times),),\n",
    "            dtype=int,\n",
    "        ),\n",
    "        columns=sorted(times),\n",
    "        index=sorted(transes),\n",
    "    )\n",
    "\n",
    "\n",
    "    with open(file, 'r') as f:\n",
    "        for line in f:\n",
    "            matches = re.findall('{?([A-Z, 0-9, a-z]+;[^}]+)}', line)\n",
    "\n",
    "            for one in matches:\n",
    "                trans, time = one.split(';')\n",
    "                \n",
    "                df.loc[trans,time] += 1 \n",
    "\n",
    "    df.to_csv(file + '_table.csv')"
   ]
  }
 ],
 "metadata": {
  "kernelspec": {
   "display_name": "Python 3",
   "language": "python",
   "name": "python3"
  },
  "language_info": {
   "codemirror_mode": {
    "name": "ipython",
    "version": 3
   },
   "file_extension": ".py",
   "mimetype": "text/x-python",
   "name": "python",
   "nbconvert_exporter": "python",
   "pygments_lexer": "ipython3",
   "version": "3.7.4"
  }
 },
 "nbformat": 4,
 "nbformat_minor": 2
}
