{
 "cells": [
  {
   "cell_type": "code",
   "execution_count": 2,
   "metadata": {},
   "outputs": [],
   "source": [
    "file = open(\"irma_text.txt\")\n",
    "text = file.readlines()\n",
    "file.close()"
   ]
  },
  {
   "cell_type": "code",
   "execution_count": 7,
   "metadata": {},
   "outputs": [],
   "source": [
    "import nltk\n",
    "\n",
    "by_words = [nltk.wordpunct_tokenize(sent) for sent in text]"
   ]
  },
  {
   "cell_type": "code",
   "execution_count": 50,
   "metadata": {},
   "outputs": [],
   "source": [
    "\n",
    "import pymorphy2\n",
    "morph = pymorphy2.MorphAnalyzer()\n",
    "\n",
    "num_verbs = 0\n",
    "\n",
    "rebuilded_text = []\n",
    "\n",
    "\n",
    "for sent_by_words in by_words:\n",
    "\n",
    "    rebuilded_sentence = \"\"\n",
    "\n",
    "    for word in sent_by_words:\n",
    "        parsed = morph.parse(word)[0]\n",
    "        if parsed.tag.mood == 'impr' and 'VERB' in parsed.tag.grammemes:\n",
    "            num_verbs += 1\n",
    "            rebuilded_sentence += \" _imprVERB_\" + word\n",
    "        else:\n",
    "            rebuilded_sentence += \" \" + word\n",
    "    rebuilded_text.append(rebuilded_sentence)"
   ]
  },
  {
   "cell_type": "code",
   "execution_count": 52,
   "metadata": {},
   "outputs": [],
   "source": [
    "ready_text = \"\\n\".join(rebuilded_text)"
   ]
  },
  {
   "cell_type": "code",
   "execution_count": 55,
   "metadata": {},
   "outputs": [],
   "source": [
    "f = open(\"irma_patched_text.txt\", \"w\")\n",
    "f.write(ready_text)\n",
    "f.close()"
   ]
  },
  {
   "cell_type": "code",
   "execution_count": 45,
   "metadata": {},
   "outputs": [
    {
     "data": {
      "text/plain": [
       "True"
      ]
     },
     "execution_count": 45,
     "metadata": {},
     "output_type": "execute_result"
    }
   ],
   "source": []
  },
  {
   "cell_type": "code",
   "execution_count": null,
   "metadata": {},
   "outputs": [],
   "source": []
  }
 ],
 "metadata": {
  "kernelspec": {
   "display_name": "Python 3",
   "language": "python",
   "name": "python3"
  },
  "language_info": {
   "codemirror_mode": {
    "name": "ipython",
    "version": 3
   },
   "file_extension": ".py",
   "mimetype": "text/x-python",
   "name": "python",
   "nbconvert_exporter": "python",
   "pygments_lexer": "ipython3",
   "version": "3.7.4"
  }
 },
 "nbformat": 4,
 "nbformat_minor": 2
}
