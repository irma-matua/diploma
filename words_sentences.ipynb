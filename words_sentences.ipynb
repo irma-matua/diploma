{
 "cells": [
  {
   "cell_type": "code",
   "execution_count": 1,
   "metadata": {},
   "outputs": [],
   "source": [
    "import numpy as np\n",
    "import re\n",
    "from razdel import sentenize"
   ]
  },
  {
   "cell_type": "code",
   "execution_count": 2,
   "metadata": {},
   "outputs": [],
   "source": [
    "from matplotlib import pyplot as plt\n",
    "IMG_DIR = 'plots/'"
   ]
  },
  {
   "cell_type": "code",
   "execution_count": 3,
   "metadata": {},
   "outputs": [],
   "source": [
    "files = [\n",
    "    'Geyger_Size',\n",
    "    'Inn_Size',\n",
    "    'Nas_Size',\n",
    "]"
   ]
  },
  {
   "cell_type": "code",
   "execution_count": 4,
   "metadata": {},
   "outputs": [],
   "source": [
    "wc = lambda line: len(re.findall('[а-яА-Я0-9a-z\\-]+', line))"
   ]
  },
  {
   "cell_type": "code",
   "execution_count": 5,
   "metadata": {},
   "outputs": [
    {
     "name": "stdout",
     "output_type": "stream",
     "text": [
      "Geyger_Size, количество слов в предложении:\n",
      "  среднее значение:   6.2;\n",
      "  медианное значение: 6.0;\n",
      "  (752 слов в 122 предложениях). \n",
      "\n",
      "Inn_Size, количество слов в предложении:\n",
      "  среднее значение:   9.0;\n",
      "  медианное значение: 8.0;\n",
      "  (9026 слов в 1001 предложениях). \n",
      "\n",
      "Nas_Size, количество слов в предложении:\n",
      "  среднее значение:   9.8;\n",
      "  медианное значение: 9.0;\n",
      "  (1515 слов в 154 предложениях). \n",
      "\n"
     ]
    },
    {
     "data": {
      "image/png": "[encoded data removed]",
      "text/plain": [
       "<Figure size 432x288 with 1 Axes>"
      ]
     },
     "metadata": {
      "needs_background": "light"
     },
     "output_type": "display_data"
    }
   ],
   "source": [
    "for file in files:\n",
    "\n",
    "    sizes = list()\n",
    "\n",
    "    with open(file, 'r') as f:\n",
    "        for line in f:\n",
    "            sizes.extend(\n",
    "                [wc(sentence.text) for sentence in sentenize(line)]\n",
    "            )\n",
    "\n",
    "    plt.xlabel('Количество слов в предложении')\n",
    "    plt.ylabel('Количество предложений')\n",
    "\n",
    "\n",
    "    plt.hist(\n",
    "        sizes, \n",
    "        label=file, \n",
    "        density=True, \n",
    "        alpha=0.4,\n",
    "    )\n",
    "    # plt.savefig(IMG_DIR + file + '_hist.png')\n",
    "    # plt.clf()\n",
    "\n",
    "    sizes = np.array(sizes)\n",
    "\n",
    "    print(file + ', количество слов в предложении:')\n",
    "    print('  среднее значение:   %.1f;' % np.mean(sizes))\n",
    "    print('  медианное значение: %.1f;' % np.median(sizes))\n",
    "    print('  (%d слов в %d предложениях). ' % (\n",
    "        np.sum(sizes),\n",
    "        sizes.size,\n",
    "    ))\n",
    "    print()\n",
    "\n",
    "\n",
    "plt.xlabel('Количество слов в предложении')\n",
    "plt.ylabel('Доля предложений')\n",
    "plt.legend()\n",
    "plt.savefig(IMG_DIR + 'total_hist.png')\n",
    "\n"
   ]
  }
 ],
 "metadata": {
  "kernelspec": {
   "display_name": "Python 3",
   "language": "python",
   "name": "python3"
  },
  "language_info": {
   "codemirror_mode": {
    "name": "ipython",
    "version": 3
   },
   "file_extension": ".py",
   "mimetype": "text/x-python",
   "name": "python",
   "nbconvert_exporter": "python",
   "pygments_lexer": "ipython3",
   "version": "3.7.4"
  }
 },
 "nbformat": 4,
 "nbformat_minor": 2
}
